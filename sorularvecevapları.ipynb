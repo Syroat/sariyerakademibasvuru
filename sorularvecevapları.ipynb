{
 "cells": [
  {
   "cell_type": "markdown",
   "metadata": {},
   "source": [
    "# Soru 1 :\n",
    "Bu soruyu cevaplamak için Python ile Makine Öğrenmesine Giriş Pandas Kütüphanesi yazısını okumanız gerekebilir. Sizden istediğimiz aşağıdaki adresteki veriyi pandas kütüphanesi ile çekip, bazı sütunları silmenizi bekliyoruz.\n",
    "\"https://raw.githubusercontent.com/unforgiventr/Facebook-DataLeak-TextMining/master/avocado.csv\"\n",
    "Bu işlem gerçekleştiğinde, veriyi sadeleştirmiş olacaksınız."
   ]
  },
  {
   "cell_type": "code",
   "execution_count": null,
   "metadata": {},
   "outputs": [],
   "source": [
    "import pandas as pd\n",
    "df = pd.read_csv('https://raw.githubusercontent.com/unforgiventr/Facebook-DataLeak-TextMining/master/avocado.csv')\n",
    "df = df.drop([\"4770\",\"Total Bags\",\"Small Bags\",\"Large Bags\",\"XLarge Bags\",\"type\",\"year\",\"region\",\"Date\"], axis=1)\n",
    "df"
   ]
  },
  {
   "cell_type": "markdown",
   "metadata": {},
   "source": [
    "# Soru 2 :"
   ]
  },
  {
   "cell_type": "markdown",
   "metadata": {},
   "source": [
    "Yukarıda oluşturduğunuz sadeleştirilmiş pandas veri kümesine yeni bir satır girmeni istiyoruz. Girilecek satır verisi kullanıcıdan ınput komutu kullanılarak alınacaktır."
   ]
  },
  {
   "cell_type": "code",
   "execution_count": null,
   "metadata": {},
   "outputs": [],
   "source": [
    "import pandas as pd\n",
    "import numpy as np\n",
    "df = pd.read_csv('https://raw.githubusercontent.com/unforgiventr/Facebook-DataLeak-TextMining/master/avocado.csv')\n",
    "df = df.drop([\"4770\",\"Total Bags\",\"Small Bags\",\"Large Bags\",\"XLarge Bags\",\"type\",\"year\",\"region\",\"Date\"], axis=1)\n",
    "unnamed=0\n",
    "average_price=input(\"AveragePrice : \")\n",
    "total_volume=input(\"Total Volume : \")\n",
    "deger1=input(\"4046 : \")\n",
    "deger2=input(\"4225 : \")\n",
    "df=pd.DataFrame(np.insert(df.values, 18249, values=[unnamed,average_price,total_volume,deger1,deger2], axis=0))\n",
    "df"
   ]
  },
  {
   "cell_type": "markdown",
   "metadata": {},
   "source": [
    "# Soru 3 :"
   ]
  },
  {
   "cell_type": "markdown",
   "metadata": {},
   "source": [
    "Aklınızdan 1 ile N arasında bir sayma sayısı tutup arkadaşlarınızdan bu sayıyı, x∈[1,N], tahmin etmesini istediğinizi düşünelim. N=100 olsun, tuttuğunuz sayı x=3 olsun,\n",
    "\n",
    " - Ahmet, x=1 mi diye soruyor, siz hayır diyorsunuz. Daha sonra 2 mi diye soruyor, hayır diyorsunuz. Yine 1 arttırarak, x=3 mü diye sorduğunda, evet bildin diyorsunuz.\n",
    " - Mehmet, x=50 mi diyor ve hayır diyorsunuz. x>50 mi diye soruyor, hayır diyorsunuz. x=25 mi diyor, hayır diyorsunuz. x>25 mi diye soruyor, hayır diyorsunuz. Yine ikiye bölerek x=12 mi diyor, hayır diyorsunuz. x>12 diye soruyor, hayır diyorsunuz. x=6 mi diyor, hayır diyorsunuz. x>6 mı diyor, hayır diyorsunuz. 3 mü dediğinde nihayet evet bildin diyorsunuz.\n",
    " \n",
    " Farklı N ve x değerleri düşünüldüğünde, kim daha mantıklı sorular sormuştur, nedenini açıklayınız."
   ]
  },
  {
   "cell_type": "markdown",
   "metadata": {},
   "source": [
    "Mehmet daha mantıklı sorular sormuştur. Çünkü Ahmet’in kullandığı yöntem her  zaman 1 arttırarak devam eder ve eğer x=100 olsaydı Ahmet’in bunu bulması  için 100 kere deneme yapması gerekecekti  ancak Mehmet’in kullandığı yöntem sayının aralığını öğrendikçe daha küçük bir aralıkta tahmin etmesini sağlıyor ve böylece daha kısa tahminlerle sonuca daha çabuk varıyor."
   ]
  },
  {
   "cell_type": "markdown",
   "metadata": {},
   "source": [
    "# Soru 4 :"
   ]
  },
  {
   "cell_type": "markdown",
   "metadata": {},
   "source": [
    "İstatistikçiler büyük bir yatırım yaparak, 1936'daki ABD başkanlık seçiminde, araba sahiplerinin telefon numaralarını içeren bir rehberdeki kişileri telefonla arayıp hangi adayı desteklediklerini tek tek sordular. Kimin kazanacağını tahmin etmek istediler fakat yanıldılar. Burada yanlış yaptıkları şey ne olabilir?"
   ]
  },
  {
   "cell_type": "markdown",
   "metadata": {},
   "source": [
    "1936 yılında ABD'de arabalar popüler değildi dolayısıyla araba kullanan az kişi olduğundan verilen oylar da seçimi çok büyük bir etki yapmadı. Bu nedenle kimin kazanacağını tahmin etmekte yanıldılar."
   ]
  },
  {
   "cell_type": "markdown",
   "metadata": {},
   "source": [
    "# Soru 5 :"
   ]
  },
  {
   "cell_type": "markdown",
   "metadata": {},
   "source": [
    "a ve b tamsayı olmak üzere, f(a,b)=c olduğunu göstermek için aşağıdaki gibi kare yerleştirme yöntemi kullanılıyorsa buradaki f fonksiyonu nedir?\n"
   ]
  },
  {
   "cell_type": "markdown",
   "metadata": {},
   "source": [
    "Tüm olasılıklar denense cevap gene 1 çıkacaktır. Çünkü f(a,b) fonksiyonu sabit bir fonksiyondur . Yani f(a,b) = 1"
   ]
  },
  {
   "cell_type": "markdown",
   "metadata": {},
   "source": [
    "# Soru 6 :\n"
   ]
  },
  {
   "cell_type": "markdown",
   "metadata": {},
   "source": [
    "Aşağıdaki yapay sinir ağında, w1=w2=0.6 ve Q=1 için mantıksal ve (∧) işlemi elde edilmektedir.Ağın çalışma prensibi şudur, girdi değerleri x1 ve x2 bir g(x1,x2)=x1×w1+x2×w2 fonksiyonuna tabi tutulur. Eğer elde edilen değer Q'dan büyük eşitse y=1 olur, değilse y=0 olur, Kısaca,\n",
    "g(x1,x2)≥Q⇒y=1g(x1,x2)<Q⇒y=0\n",
    "\n",
    "Siz de, w1, w2 ve Q değerlerini değiştirerek mantıksal veya (∨) işlemini gerçekleştiren yapay sinir ağını üretin."
   ]
  },
  {
   "cell_type": "code",
   "execution_count": null,
   "metadata": {},
   "outputs": [],
   "source": [
    "# W1=w2=10 , Q = 10 için : \n",
    "# X1 = 0  X2 = 0  / [X1*10+X2*10] = 0  / [g(X1,X2) >= 10] = 0 / Y = HAYIR\n",
    "# X1 = 1  X2 = 0  / [X1*10+X2*10] = 10 / [g(X1,X2) >= 10] = 1 / Y = EVET\n",
    "# X1 = 0  X2 = 1  / [X1*10+X2*10] = 10 / [g(X1,X2) >= 10] = 1 / Y = EVET\n",
    "# X1 = 1  X2 = 1  / [X1*10+X2*10] = 20 / [g(X1,X2) >= 10] = 1 / Y = EVET\n"
   ]
  },
  {
   "cell_type": "markdown",
   "metadata": {},
   "source": [
    "# Soru 7 :"
   ]
  },
  {
   "cell_type": "markdown",
   "metadata": {},
   "source": [
    "Sizce neden S-eğrisinin dünyadaki en önemli eğridir? Başka nerelerde S-eğrisini gözlemleyebiliriz?"
   ]
  },
  {
   "cell_type": "markdown",
   "metadata": {},
   "source": [
    "S eğrisinin dünyadaki en önemli eğri olmasının sebebi birçok alanda istemsiz de olsa görülüyor olmasıdır. Yapmış olduğunuz bir projenin öncelikle herhangi bir etkisi olmaz . İlerleyen zamanlarda gelişmeye başlar ve bu katlanarak devam eder. Belli bir noktaya gelince proje zirvesini yaşar ve bu noktadan sonra basit iyileştirmeler yaparak düz bir şekilde devam eder. Bu yüzden “S eğrisi” birçok alanda önemlidir ve proje yönetimi adına önem teşkil eden bir grafiktir. \n",
    "\n",
    "Bu sorunun geri kalan kısmını da bu yaz okuduğum “Robotların Yükselişi” kitabından yararlanarak cevaplayacağım :\n",
    "\n",
    "S eğrisini başka uçak teknolojisinde S eğrisini görebiliriz . Örneğin 1905’te Wilbur Wright, saatte yaklaşık 38km hızla neredeyse 40 dakika havada kalan bir uçak yaptı. Takip eden birkaç yıl içinde uçuş teknolojisi, katlanarak gelişim dönemine girdi ve bir anda bambaşka noktalara geldi. Birinci Dünya Savaşı’na gelindiğinde artık uçaklar havada birbirleriyle yüksek hızda it dalaşına girdi. Sonraki 20 yılda gelişmeler birbirini kovaladı.İkinci Dünya Savaşı’nın ortalarında gelişme hızı ciddi biçimde yavaşladı.Çünkü artık içten yanmalı motorun döndürdüğü pervaneyle uçan uçaklar, teknik potansiyellerinin zirvesine ulaşmıştı ve bu noktadan sonraki tasarım iyileştirmeleri kademeli oldu.Katlanarak artış buradaki “S eğrisini” göstermektedir.\n"
   ]
  },
  {
   "cell_type": "markdown",
   "metadata": {},
   "source": [
    "# Soru 8 : \n",
    "Aşağıdaki basamak fonksiyonu ve üstel fonksiyon görülmektedir. Sizce S-eğrisinin bu fonksiyonlara göre ne gibi avantajları vardır."
   ]
  },
  {
   "cell_type": "markdown",
   "metadata": {},
   "source": [
    "S eğrisinde basamak fonksiyonunun aksine oluşacak bir olayın önceden bir belirtisi olur ve üstel fonksiyona kıyaslayacak olursak oluşacak bir olayın sonunu kestiremeyiz yani sonu belli değildir. Bu iki nedenden dolayı da S eğrisi diğerlerine göre daha avantajlıdır."
   ]
  },
  {
   "cell_type": "markdown",
   "metadata": {},
   "source": [
    "# YUSUF DEMİR "
   ]
  }
 ],
 "metadata": {
  "kernelspec": {
   "display_name": "Python 3",
   "language": "python",
   "name": "python3"
  },
  "language_info": {
   "codemirror_mode": {
    "name": "ipython",
    "version": 3
   },
   "file_extension": ".py",
   "mimetype": "text/x-python",
   "name": "python",
   "nbconvert_exporter": "python",
   "pygments_lexer": "ipython3",
   "version": "3.6.5"
  }
 },
 "nbformat": 4,
 "nbformat_minor": 2
}
